{
  "nbformat": 4,
  "nbformat_minor": 0,
  "metadata": {
    "colab": {
      "provenance": []
    },
    "kernelspec": {
      "name": "python3",
      "display_name": "Python 3"
    },
    "language_info": {
      "name": "python"
    }
  },
  "cells": [
    {
      "cell_type": "markdown",
      "source": [
        "#CHAPTER 8\n",
        "\n",
        "##EXERCISES\n",
        "\n",
        "EXERCISE 1"
      ],
      "metadata": {
        "id": "D98TWshXKkmR"
      }
    },
    {
      "cell_type": "code",
      "source": [
        "numbers = []\n",
        "numbers.append(4)\n",
        "numbers.append(6)\n",
        "numbers.append(9)\n",
        "print(numbers)"
      ],
      "metadata": {
        "colab": {
          "base_uri": "https://localhost:8080/"
        },
        "id": "ewueHeLgKrRl",
        "outputId": "df516f40-9666-459a-901b-f5923d5ff271"
      },
      "execution_count": 2,
      "outputs": [
        {
          "output_type": "stream",
          "name": "stdout",
          "text": [
            "[4, 6, 9]\n"
          ]
        }
      ]
    },
    {
      "cell_type": "markdown",
      "source": [
        "EXERCISE 2"
      ],
      "metadata": {
        "id": "ksQ9ea44K5qo"
      }
    },
    {
      "cell_type": "code",
      "source": [
        "numbers = list(range(11))\n",
        "print(numbers)"
      ],
      "metadata": {
        "colab": {
          "base_uri": "https://localhost:8080/"
        },
        "id": "2nCoF4WfK7Vc",
        "outputId": "c5703780-ba11-4a1d-fd0e-812e66eae513"
      },
      "execution_count": 1,
      "outputs": [
        {
          "output_type": "stream",
          "name": "stdout",
          "text": [
            "[0, 1, 2, 3, 4, 5, 6, 7, 8, 9, 10]\n"
          ]
        }
      ]
    },
    {
      "cell_type": "markdown",
      "source": [
        "EXERCISE 3"
      ],
      "metadata": {
        "id": "e1LKnXo-LYEj"
      }
    },
    {
      "cell_type": "code",
      "source": [
        "\n",
        "grades = [1.0, 1.25, 1.5, 1.75, 2.0, 2.25, 2.5, 3.0]\n",
        "\n",
        "\n",
        "for index, grade in enumerate(grades):\n",
        "    print(index, grade)\n"
      ],
      "metadata": {
        "id": "4CSPgWcCLZrq"
      },
      "execution_count": null,
      "outputs": []
    },
    {
      "cell_type": "markdown",
      "source": [
        "EXERCISE 4"
      ],
      "metadata": {
        "id": "qewNAs4PLuMC"
      }
    },
    {
      "cell_type": "code",
      "source": [
        "grades = [1.0, 1.25, 1.5, 1.75, 2.0, 2.25, 2.5, 3.0]\n",
        "grades_above_2 = [grade for grade in grades if grade > 2.0]\n",
        "print(grades_above_2)"
      ],
      "metadata": {
        "id": "YgXlDC07L0TD"
      },
      "execution_count": null,
      "outputs": []
    },
    {
      "cell_type": "markdown",
      "source": [
        "EXERCISE 5"
      ],
      "metadata": {
        "id": "thz1zyrEMPud"
      }
    },
    {
      "cell_type": "code",
      "source": [
        "grades = [1.0, 1.25, 1.5, 1.75, 2.0, 2.25, 2.5, 3.0]\n",
        "index_of_2_0 = grades.index(2.0)\n",
        "grades_better_than_2 = grades[index_of_2_0:]\n",
        "print(grades_better_than_2)"
      ],
      "metadata": {
        "id": "4wV9HhmbMSlx"
      },
      "execution_count": null,
      "outputs": []
    },
    {
      "cell_type": "markdown",
      "source": [
        "EXERCISE 6"
      ],
      "metadata": {
        "id": "vyKKpg0PMmmy"
      }
    },
    {
      "cell_type": "code",
      "source": [
        "grades = [1.0, 1.25, 1.5, 1.75, 2.0, 2.25, 2.5, 3.0]\n",
        "selected_grades = grades[4:7]\n",
        "print(selected_grades)"
      ],
      "metadata": {
        "id": "XyHF6zT8MpB-"
      },
      "execution_count": null,
      "outputs": []
    },
    {
      "cell_type": "markdown",
      "source": [
        "CHALLENGE"
      ],
      "metadata": {
        "id": "OQsAXMaxNFmD"
      }
    },
    {
      "cell_type": "code",
      "source": [
        "filename = 'mbox-short.txt'\n",
        "with open(filename, 'r') as file:\n",
        "    for line in file:\n",
        "        if line.startswith('From '):\n",
        "            words = line.split()\n",
        "            print(words[2])"
      ],
      "metadata": {
        "id": "PzR_GWTSNqPW"
      },
      "execution_count": null,
      "outputs": []
    },
    {
      "cell_type": "markdown",
      "source": [
        "#CHAPTER 9\n",
        "\n",
        "##EXERCISES\n",
        "\n",
        "EXERCISE 1"
      ],
      "metadata": {
        "id": "68TLc3RvOZ_i"
      }
    },
    {
      "cell_type": "code",
      "source": [
        "gdp_growth = {\n",
        "    'China': 6.5,\n",
        "    'Japan': 0.7,\n",
        "    'Philippines': 6.7,\n",
        "    'United States': 2.3\n",
        "}"
      ],
      "metadata": {
        "id": "qky549N-OihB"
      },
      "execution_count": null,
      "outputs": []
    },
    {
      "cell_type": "markdown",
      "source": [
        "EXERCISE 2"
      ],
      "metadata": {
        "id": "pgTrzlUMO0wr"
      }
    },
    {
      "cell_type": "code",
      "source": [
        "gdp_growth = {\n",
        "    'China': 6.5,\n",
        "    'Japan': 0.7,\n",
        "    'Philippines': 6.7,\n",
        "    'United States': 2.3\n",
        "}\n",
        "\n",
        "for key, value in gdp_growth.items():\n",
        "    print(f'{key}: {value}')"
      ],
      "metadata": {
        "id": "VzdViAHkO25l"
      },
      "execution_count": null,
      "outputs": []
    },
    {
      "cell_type": "markdown",
      "source": [
        "EXERCISE 3"
      ],
      "metadata": {
        "id": "NIQf028RO9Iv"
      }
    },
    {
      "cell_type": "code",
      "source": [
        "def count_words():\n",
        "    line = input('Please enter a line of text: ')\n",
        "    word_list = line.split()\n",
        "    word_count = {}\n",
        "\n",
        "    for word in word_list:\n",
        "        if word in word_count:\n",
        "            word_count[word] += 1\n",
        "        else:\n",
        "            word_count[word] = 1\n",
        "\n",
        "    for word, count in word_count.items():\n",
        "        print(f'Word: {word}, Count: {count}')\n",
        "\n",
        "count_words()"
      ],
      "metadata": {
        "id": "aH-m-BKvPHRQ"
      },
      "execution_count": null,
      "outputs": []
    },
    {
      "cell_type": "markdown",
      "source": [
        "#CHAPTER 10\n",
        "\n",
        "##EXERCISES\n",
        "\n",
        "EXERCISE 1"
      ],
      "metadata": {
        "id": "IBPLdQ9HPUb0"
      }
    },
    {
      "cell_type": "code",
      "source": [
        "fibonacci_tuple = (1, 1, 2, 3, 5)\n",
        "sum_result = sum(fibonacci_tuple)\n",
        "print(f'The sum of the tuple is: {sum_result}')"
      ],
      "metadata": {
        "id": "la-iUZw0PcQA"
      },
      "execution_count": null,
      "outputs": []
    },
    {
      "cell_type": "markdown",
      "source": [
        "EXERCISE 2"
      ],
      "metadata": {
        "id": "xSMiMMyJQNTU"
      }
    },
    {
      "cell_type": "code",
      "source": [
        "ph_info = ('Philippines', 'Manila', 103.3)\n",
        "country, capital, population = ph_info\n",
        "print(f'Country: {country}')\n",
        "print(f'Capital: {capital}')\n",
        "print(f'Population (Millions): {population}')"
      ],
      "metadata": {
        "id": "Ki9VuKGmQO7u"
      },
      "execution_count": null,
      "outputs": []
    }
  ]
}