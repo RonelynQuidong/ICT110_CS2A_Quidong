{
  "nbformat": 4,
  "nbformat_minor": 0,
  "metadata": {
    "colab": {
      "provenance": []
    },
    "kernelspec": {
      "name": "python3",
      "display_name": "Python 3"
    },
    "language_info": {
      "name": "python"
    }
  },
  "cells": [
    {
      "cell_type": "markdown",
      "source": [
        "#CHAPTER 6\n",
        "\n",
        "## EXERCISES\n",
        "\n",
        "EXERCISE 1"
      ],
      "metadata": {
        "id": "SiOxrstEtN5D"
      }
    },
    {
      "cell_type": "code",
      "source": [
        "text = 'Business Analytics'\n",
        "\n",
        "print(text[4])\n",
        "print(text[2:4])\n",
        "print(text[:4])\n",
        "print(text[4:])\n",
        "print(text[-2])\n",
        "print(text[-4:-2])\n",
        "print(text[-2:])\n",
        "print(text[:-2])"
      ],
      "metadata": {
        "colab": {
          "base_uri": "https://localhost:8080/"
        },
        "id": "yg3TfX7DtimN",
        "outputId": "188b64a4-7842-4362-86ad-7a96ed0a02f0"
      },
      "execution_count": 1,
      "outputs": [
        {
          "output_type": "stream",
          "name": "stdout",
          "text": [
            "n\n",
            "si\n",
            "Busi\n",
            "ness Analytics\n",
            "c\n",
            "ti\n",
            "cs\n",
            "Business Analyti\n"
          ]
        }
      ]
    },
    {
      "cell_type": "markdown",
      "source": [
        "EXERCISE 2\n"
      ],
      "metadata": {
        "id": "pJOI3MqDtmjJ"
      }
    },
    {
      "cell_type": "code",
      "source": [
        "phrase = 'One Ring to rule them all'\n",
        "\n",
        "word1 = phrase[:4]\n",
        "word2 = phrase[4:8]\n",
        "word3 = phrase[-3:]\n",
        "word4 = phrase[-7:-3]\n",
        "word5 = phrase\n",
        "\n",
        "print(word1)\n",
        "print(word2)\n",
        "print(word3)\n",
        "print(word4)\n",
        "print(word5)"
      ],
      "metadata": {
        "colab": {
          "base_uri": "https://localhost:8080/"
        },
        "id": "6_XtD_y9to1y",
        "outputId": "3d1c5082-1729-4713-a263-8347f2da319f"
      },
      "execution_count": 2,
      "outputs": [
        {
          "output_type": "stream",
          "name": "stdout",
          "text": [
            "One \n",
            "Ring\n",
            "all\n",
            "hem \n",
            "One Ring to rule them all\n"
          ]
        }
      ]
    },
    {
      "cell_type": "markdown",
      "source": [
        "CHALLENGE"
      ],
      "metadata": {
        "id": "L_WxHqetuR8Y"
      }
    },
    {
      "cell_type": "code",
      "source": [
        "def process_name(full_name):\n",
        "\n",
        "    read_name = full_name.strip().capitalize()\n",
        "\n",
        "    space_index = processed_name.find(' ')\n",
        "    if space_index != -1:\n",
        "        read_name = read_name[:space_index + 1] + read_name[space_index + 1:].lower()\n",
        "\n",
        "    return processed_name\n",
        "\n",
        "while True:\n",
        "    full_name = input(\"Enter a full name: \")\n",
        "    if full_name.lower() == 'quit':\n",
        "        break\n",
        "\n",
        "    read_name = reads_name(full_name)\n",
        "    print(\"Processed name:\", processed_name)\n",
        "\n",
        "\n",
        ""
      ],
      "metadata": {
        "colab": {
          "base_uri": "https://localhost:8080/",
          "height": 356
        },
        "id": "LTtQrTQtuTvs",
        "outputId": "52e2bbc9-babf-4fa3-cc46-edbb5c029712"
      },
      "execution_count": 3,
      "outputs": [
        {
          "output_type": "error",
          "ename": "KeyboardInterrupt",
          "evalue": "Interrupted by user",
          "traceback": [
            "\u001b[0;31m---------------------------------------------------------------------------\u001b[0m",
            "\u001b[0;31mKeyboardInterrupt\u001b[0m                         Traceback (most recent call last)",
            "\u001b[0;32m<ipython-input-3-3c453bdc301b>\u001b[0m in \u001b[0;36m<cell line: 11>\u001b[0;34m()\u001b[0m\n\u001b[1;32m     10\u001b[0m \u001b[0;34m\u001b[0m\u001b[0m\n\u001b[1;32m     11\u001b[0m \u001b[0;32mwhile\u001b[0m \u001b[0;32mTrue\u001b[0m\u001b[0;34m:\u001b[0m\u001b[0;34m\u001b[0m\u001b[0;34m\u001b[0m\u001b[0m\n\u001b[0;32m---> 12\u001b[0;31m     \u001b[0mfull_name\u001b[0m \u001b[0;34m=\u001b[0m \u001b[0minput\u001b[0m\u001b[0;34m(\u001b[0m\u001b[0;34m\"Enter a full name: \"\u001b[0m\u001b[0;34m)\u001b[0m\u001b[0;34m\u001b[0m\u001b[0;34m\u001b[0m\u001b[0m\n\u001b[0m\u001b[1;32m     13\u001b[0m     \u001b[0;32mif\u001b[0m \u001b[0mfull_name\u001b[0m\u001b[0;34m.\u001b[0m\u001b[0mlower\u001b[0m\u001b[0;34m(\u001b[0m\u001b[0;34m)\u001b[0m \u001b[0;34m==\u001b[0m \u001b[0;34m'quit'\u001b[0m\u001b[0;34m:\u001b[0m\u001b[0;34m\u001b[0m\u001b[0;34m\u001b[0m\u001b[0m\n\u001b[1;32m     14\u001b[0m         \u001b[0;32mbreak\u001b[0m\u001b[0;34m\u001b[0m\u001b[0;34m\u001b[0m\u001b[0m\n",
            "\u001b[0;32m/usr/local/lib/python3.10/dist-packages/ipykernel/kernelbase.py\u001b[0m in \u001b[0;36mraw_input\u001b[0;34m(self, prompt)\u001b[0m\n\u001b[1;32m    849\u001b[0m                 \u001b[0;34m\"raw_input was called, but this frontend does not support input requests.\"\u001b[0m\u001b[0;34m\u001b[0m\u001b[0;34m\u001b[0m\u001b[0m\n\u001b[1;32m    850\u001b[0m             )\n\u001b[0;32m--> 851\u001b[0;31m         return self._input_request(str(prompt),\n\u001b[0m\u001b[1;32m    852\u001b[0m             \u001b[0mself\u001b[0m\u001b[0;34m.\u001b[0m\u001b[0m_parent_ident\u001b[0m\u001b[0;34m,\u001b[0m\u001b[0;34m\u001b[0m\u001b[0;34m\u001b[0m\u001b[0m\n\u001b[1;32m    853\u001b[0m             \u001b[0mself\u001b[0m\u001b[0;34m.\u001b[0m\u001b[0m_parent_header\u001b[0m\u001b[0;34m,\u001b[0m\u001b[0;34m\u001b[0m\u001b[0;34m\u001b[0m\u001b[0m\n",
            "\u001b[0;32m/usr/local/lib/python3.10/dist-packages/ipykernel/kernelbase.py\u001b[0m in \u001b[0;36m_input_request\u001b[0;34m(self, prompt, ident, parent, password)\u001b[0m\n\u001b[1;32m    893\u001b[0m             \u001b[0;32mexcept\u001b[0m \u001b[0mKeyboardInterrupt\u001b[0m\u001b[0;34m:\u001b[0m\u001b[0;34m\u001b[0m\u001b[0;34m\u001b[0m\u001b[0m\n\u001b[1;32m    894\u001b[0m                 \u001b[0;31m# re-raise KeyboardInterrupt, to truncate traceback\u001b[0m\u001b[0;34m\u001b[0m\u001b[0;34m\u001b[0m\u001b[0m\n\u001b[0;32m--> 895\u001b[0;31m                 \u001b[0;32mraise\u001b[0m \u001b[0mKeyboardInterrupt\u001b[0m\u001b[0;34m(\u001b[0m\u001b[0;34m\"Interrupted by user\"\u001b[0m\u001b[0;34m)\u001b[0m \u001b[0;32mfrom\u001b[0m \u001b[0;32mNone\u001b[0m\u001b[0;34m\u001b[0m\u001b[0;34m\u001b[0m\u001b[0m\n\u001b[0m\u001b[1;32m    896\u001b[0m             \u001b[0;32mexcept\u001b[0m \u001b[0mException\u001b[0m \u001b[0;32mas\u001b[0m \u001b[0me\u001b[0m\u001b[0;34m:\u001b[0m\u001b[0;34m\u001b[0m\u001b[0;34m\u001b[0m\u001b[0m\n\u001b[1;32m    897\u001b[0m                 \u001b[0mself\u001b[0m\u001b[0;34m.\u001b[0m\u001b[0mlog\u001b[0m\u001b[0;34m.\u001b[0m\u001b[0mwarning\u001b[0m\u001b[0;34m(\u001b[0m\u001b[0;34m\"Invalid Message:\"\u001b[0m\u001b[0;34m,\u001b[0m \u001b[0mexc_info\u001b[0m\u001b[0;34m=\u001b[0m\u001b[0;32mTrue\u001b[0m\u001b[0;34m)\u001b[0m\u001b[0;34m\u001b[0m\u001b[0;34m\u001b[0m\u001b[0m\n",
            "\u001b[0;31mKeyboardInterrupt\u001b[0m: Interrupted by user"
          ]
        }
      ]
    },
    {
      "cell_type": "markdown",
      "source": [
        "##CHAPTER 7\n",
        "\n",
        "#EXERCISES\n",
        "\n",
        "EXERCISE 1\n"
      ],
      "metadata": {
        "id": "nxVEB-6o59np"
      }
    },
    {
      "cell_type": "code",
      "source": [
        "with open('student.txt', 'r') as file:\n",
        "    for line in file:\n",
        "        print(line.upper())"
      ],
      "metadata": {
        "colab": {
          "base_uri": "https://localhost:8080/",
          "height": 106
        },
        "id": "ztb4kl246Gxb",
        "outputId": "36a5c1ec-97cb-4ddb-e90d-245495bfcd23"
      },
      "execution_count": 2,
      "outputs": [
        {
          "output_type": "error",
          "ename": "SyntaxError",
          "evalue": "invalid syntax (<ipython-input-2-742b22d8f58c>, line 1)",
          "traceback": [
            "\u001b[0;36m  File \u001b[0;32m\"<ipython-input-2-742b22d8f58c>\"\u001b[0;36m, line \u001b[0;32m1\u001b[0m\n\u001b[0;31m    f = open('student.txt', 'r') as file:\u001b[0m\n\u001b[0m                                 ^\u001b[0m\n\u001b[0;31mSyntaxError\u001b[0m\u001b[0;31m:\u001b[0m invalid syntax\n"
          ]
        }
      ]
    },
    {
      "cell_type": "markdown",
      "source": [
        "EXERCISE 2"
      ],
      "metadata": {
        "id": "ex__c2dE6ekX"
      }
    },
    {
      "cell_type": "code",
      "source": [
        "with open('student.txt', 'r') as file:\n",
        "    for line in file:\n",
        "        print(line.upper())\n",
        "\n",
        "        with open('student.txt', 'r') as file:\n",
        "    for line in file:\n",
        "        print(line.upper())"
      ],
      "metadata": {
        "id": "XBKCA0zw6glP"
      },
      "execution_count": null,
      "outputs": []
    },
    {
      "cell_type": "markdown",
      "source": [
        "CHALLENGE"
      ],
      "metadata": {
        "id": "Yj7n694q8Z5E"
      }
    },
    {
      "cell_type": "code",
      "source": [
        "# Prompt for file name\n",
        "file_name = input(\"Enter the file name: \")\n",
        "\n",
        "# Initialize variables for counting and summing\n",
        "count = 0\n",
        "total_confidence = 0.0\n",
        "\n",
        "try:\n",
        "\n",
        "    with open(file_name, 'r') as file:\n",
        "        for line in file:\n",
        "            if line.startswith(\"X-DSPAM-Confidence:\"):\n",
        "                confidence_value = float(line.split(\":\")[1].strip())\n",
        "                count += 1\n",
        "                total_confidence += confidence_value\n",
        "\n",
        "    if count > 0:\n",
        "        average_confidence = total_confidence / count\n",
        "        print(\"Average spam confidence:\", average_confidence)\n",
        "    else:\n",
        "        print(\"No lines with 'X-DSPAM-Confidence:' found in the file.\")\n",
        "\n",
        "except FileNotFoundError:\n",
        "    print(\"File not found:\", file_name)\n",
        "except Exception as e:\n",
        "    print(\"An error occurred:\", e)\n"
      ],
      "metadata": {
        "colab": {
          "base_uri": "https://localhost:8080/"
        },
        "id": "1OzAaB_y8b_b",
        "outputId": "216cfbc8-fd83-4576-f42b-911461a92a5a"
      },
      "execution_count": 5,
      "outputs": [
        {
          "output_type": "stream",
          "name": "stdout",
          "text": [
            "Enter the file name: quidong\n",
            "File not found: quidong\n"
          ]
        }
      ]
    }
  ]
}