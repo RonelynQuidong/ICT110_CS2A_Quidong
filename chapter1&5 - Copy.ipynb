{
  "nbformat": 4,
  "nbformat_minor": 0,
  "metadata": {
    "colab": {
      "provenance": [],
      "authorship_tag": "ABX9TyMYVHy9xeMzREB6sfYfkia3",
      "include_colab_link": true
    },
    "kernelspec": {
      "name": "python3",
      "display_name": "Python 3"
    },
    "language_info": {
      "name": "python"
    }
  },
  "cells": [
    {
      "cell_type": "markdown",
      "metadata": {
        "id": "view-in-github",
        "colab_type": "text"
      },
      "source": [
        "<a href=\"https://colab.research.google.com/github/RonelynQuidong/ICT110_CS2A_Quidong/blob/master/chapter1%265.ipynb\" target=\"_parent\"><img src=\"https://colab.research.google.com/assets/colab-badge.svg\" alt=\"Open In Colab\"/></a>"
      ]
    },
    {
      "cell_type": "markdown",
      "source": [
        "#CHAPTER 1\n",
        "\n",
        "##EXERCISES\n",
        "\n",
        "EXERCISE 1\n",
        "\n",
        "\n"
      ],
      "metadata": {
        "id": "3TrLMbIwlOJl"
      }
    },
    {
      "cell_type": "code",
      "source": [
        "print(\"Hello world!\") # the P is in the Uppercase (change it into lowercase p )"
      ],
      "metadata": {
        "id": "FtvH_KV5lVSm"
      },
      "execution_count": null,
      "outputs": []
    },
    {
      "cell_type": "code",
      "source": [
        "print(\"Hello world!\") #  missing parentheses (add open parentheses)"
      ],
      "metadata": {
        "id": "c0jeAGrsmLgn"
      },
      "execution_count": null,
      "outputs": []
    },
    {
      "cell_type": "code",
      "source": [
        "print(\"Hello world\") # it should be quotation mark instead of apostrophe (delete the apostrophe and add quotation mark before and after Hellow world)"
      ],
      "metadata": {
        "id": "Q-GcmWTJmLn3"
      },
      "execution_count": null,
      "outputs": []
    },
    {
      "cell_type": "code",
      "source": [
        "print(\"Hello world!\") # delete the apostrophe and change it into quotation mark"
      ],
      "metadata": {
        "id": "672avleXmLyg"
      },
      "execution_count": null,
      "outputs": []
    },
    {
      "cell_type": "markdown",
      "source": [
        "EXERCISE 2\n",
        "\n"
      ],
      "metadata": {
        "id": "F1OS25nXmTbx"
      }
    },
    {
      "cell_type": "code",
      "source": [
        "x = 43\n",
        "x = x + 1 # x is 44\n",
        "print(x)"
      ],
      "metadata": {
        "id": "ZQQrSpb5mZFL"
      },
      "execution_count": null,
      "outputs": []
    },
    {
      "cell_type": "markdown",
      "source": [
        "EXERCISE 3"
      ],
      "metadata": {
        "id": "gSmxzkS3meec"
      }
    },
    {
      "cell_type": "code",
      "source": [
        "x = 43\n",
        "x = x + 1 # the variable x is in uppercase (change into lowercase)\n",
        "print(x)"
      ],
      "metadata": {
        "id": "41bc_hQNmZJ_"
      },
      "execution_count": null,
      "outputs": []
    },
    {
      "cell_type": "markdown",
      "source": [
        "#CHAPTER 2\n",
        "\n",
        "##EXERCISES\n",
        "\n",
        "EXERCISE 1\n"
      ],
      "metadata": {
        "id": "3oEJGO-Dmm5H"
      }
    },
    {
      "cell_type": "code",
      "source": [
        "name = input ('Enter your name:')\n",
        "print('Hellow', name)"
      ],
      "metadata": {
        "id": "6pGwvhs0mZNk"
      },
      "execution_count": null,
      "outputs": []
    },
    {
      "cell_type": "markdown",
      "source": [
        "EXERCISE 2"
      ],
      "metadata": {
        "id": "ubCVexz0mwf8"
      }
    },
    {
      "cell_type": "code",
      "source": [
        "inp = input ('Enter Hours:')\n",
        "ins = input ('Enter Rate:'a', pay)"
      ],
      "metadata": {
        "id": "4d55WU6Lmtxd"
      },
      "execution_count": null,
      "outputs": []
    },
    {
      "cell_type": "markdown",
      "source": [
        "EXERCISE 3"
      ],
      "metadata": {
        "id": "Yk5r_zwOm0SC"
      }
    },
    {
      "cell_type": "code",
      "source": [
        "width = 17\n",
        "height = 12.0\n",
        "\n",
        "print (width//2,(type(width//2)))\n",
        "print (width/2.0,(type(width/2.0)))\n",
        "print (height/3,(type(height/3)))\n",
        "print (1 + 2 * 5, (type(1 + 2 * 5)))"
      ],
      "metadata": {
        "id": "wuQePmZDmZiF"
      },
      "execution_count": null,
      "outputs": []
    },
    {
      "cell_type": "markdown",
      "source": [
        "EXERCISE 4"
      ],
      "metadata": {
        "id": "la2yPsDim_qk"
      }
    },
    {
      "cell_type": "code",
      "source": [
        "number =  float (input (\"enter a number:\"))\n",
        "square = number*number\n",
        "print(\"the square of 3 is\", square)"
      ],
      "metadata": {
        "id": "M81wdB17nL7V"
      },
      "execution_count": null,
      "outputs": []
    },
    {
      "cell_type": "markdown",
      "source": [
        "CHALLENGE"
      ],
      "metadata": {
        "id": "Obr59blcnRQ7"
      }
    },
    {
      "cell_type": "code",
      "source": [
        "celsius = float(input('Enter Celsius:'))\n",
        "fahren = (celsius * (9/5)) + 32\n",
        "print ('Celsius:', fahren)"
      ],
      "metadata": {
        "id": "JAUz0cAbnSsU"
      },
      "execution_count": null,
      "outputs": []
    },
    {
      "cell_type": "markdown",
      "source": [
        "#CHAPTER 3\n",
        "\n",
        "##EXERCISES\n",
        "\n",
        "EXERCISE 1"
      ],
      "metadata": {
        "id": "to8CXgvRnVyd"
      }
    },
    {
      "cell_type": "code",
      "source": [
        "if x > 50:\n",
        "    print('Above 50')\n",
        "elif x > 20:\n",
        "    print('Above 20')\n",
        "elif x > 10:\n",
        "    print('Above 10')\n",
        "elif x > 0:\n",
        "    print('Above 0')\n",
        "else:\n",
        "    print('Something else')\n",
        "\n",
        "#need to rearrange the order of the condition"
      ],
      "metadata": {
        "id": "yIevCUGcnaq8"
      },
      "execution_count": null,
      "outputs": []
    },
    {
      "cell_type": "markdown",
      "source": [
        "EXERCISE 2"
      ],
      "metadata": {
        "id": "jcuzjp6Pnd0v"
      }
    },
    {
      "cell_type": "code",
      "source": [
        "from sre_constants import REPEAT_ONE\n",
        "from typing_extensions import reveal_type\n",
        "Hours = float(input('Enter Hours:'))\n",
        "Rate = float (input('Enter Rate:'))\n",
        "\n",
        "if Hours <= 40:\n",
        "  Pay = Hours * Rate\n",
        "else:\n",
        "  regular_Pay = 40* Rate\n",
        "  overtime_Pay = (hours - 40) * (1.5 * Rate)\n",
        "  Pay = regular_Pay + overtime_Pay\n",
        "\n",
        "print('Pay:', Pay)"
      ],
      "metadata": {
        "id": "BuzXoDZknjai"
      },
      "execution_count": null,
      "outputs": []
    },
    {
      "cell_type": "markdown",
      "source": [
        "CHALLENGE"
      ],
      "metadata": {
        "id": "VO0a8r9Cnk0k"
      }
    },
    {
      "cell_type": "code",
      "source": [
        "score = float(input('Enter score between 0 and 100: '))\n",
        "\n",
        "if score >= 97:\n",
        "    grade = 1.0\n",
        "elif score >= 93:\n",
        "    grade = 1.25\n",
        "elif score >= 89:\n",
        "    grade = 1.5\n",
        "elif score >= 85:\n",
        "    grade = 1.75\n",
        "elif score >= 81:\n",
        "    grade = 2.0\n",
        "elif score >= 77:\n",
        "    grade = 2.25\n",
        "elif score >= 74:\n",
        "    grade = 2.5\n",
        "else:\n",
        "    grade = 3.0\n",
        "\n",
        "print('Grade', grade)\n"
      ],
      "metadata": {
        "id": "xwnxWxm2nnts"
      },
      "execution_count": null,
      "outputs": []
    },
    {
      "cell_type": "markdown",
      "source": [
        "#CHAPTER 4\n",
        "\n",
        "##EXERCISES\n",
        "\n",
        "EXERCISE 1\n",
        "\n",
        "\n"
      ],
      "metadata": {
        "id": "Mz9sPS7inuNz"
      }
    },
    {
      "cell_type": "code",
      "source": [
        "from sre_constants import REPEAT_ONE\n",
        "def compute_pay(hours, rate):\n",
        "      if hours <= 40:\n",
        "        pay = hours * rate\n",
        "      else:\n",
        "        regular_pay = 40 * rate\n",
        "        overtime_pay = (hours - 40) * (1.5 * rate)\n",
        "        pay = regular_pay + overtime_pay\n",
        "      return pay\n",
        "\n",
        "\n",
        "hours = float(input('Enter Hours:'))\n",
        "rate = float(input('Enter Rate: '))\n",
        "\n",
        "pay = compute_pay(hours, rate)\n",
        "print('Pay:', pay)"
      ],
      "metadata": {
        "id": "DqBAA-zLnvQs"
      },
      "execution_count": null,
      "outputs": []
    },
    {
      "cell_type": "markdown",
      "source": [
        "CHALLENGE"
      ],
      "metadata": {
        "id": "2gVQGT67nyTf"
      }
    },
    {
      "cell_type": "code",
      "source": [
        "def compute_grade(score):\n",
        "  if 97 <= score <= 100:\n",
        "    return '1.0'\n",
        "  elif 93 <= score < 97:\n",
        "    return '1.25'\n",
        "  elif 89 <= score < 93:\n",
        "    return '1.5'\n",
        "  elif 85 <= score < 89:\n",
        "    return '1.75'\n",
        "  elif 81 <= score < 85:\n",
        "    return '2.0'\n",
        "  elif 77 <= score < 81:\n",
        "    return '2.25'\n",
        "  elif 74 <= score < 77:\n",
        "    return '2.5'\n",
        "  elif 0 <= score < 74:\n",
        "    return '3.0'\n",
        "  else:\n",
        "    return 'Invalid score'\n",
        "\n",
        "score = float(input(\"Enter score:\"))\n",
        "grade = compute_grade(score)\n",
        "print(\"Grade: \", grade)"
      ],
      "metadata": {
        "id": "-BH4u2bsn2bv"
      },
      "execution_count": null,
      "outputs": []
    },
    {
      "cell_type": "markdown",
      "source": [
        "# CHAPTER 5\n",
        "\n",
        "##EXERCISES\n",
        "\n",
        "EXERCISE 1"
      ],
      "metadata": {
        "id": "099lg53Jn5PJ"
      }
    },
    {
      "cell_type": "code",
      "source": [],
      "metadata": {
        "id": "DCQea9FOn9zd"
      },
      "execution_count": null,
      "outputs": []
    },
    {
      "cell_type": "markdown",
      "source": [
        "CHALLENGE 1"
      ],
      "metadata": {
        "id": "v1yN6AL_n-mB"
      }
    },
    {
      "cell_type": "code",
      "source": [
        "count = 0\n",
        "total = 0\n",
        "\n",
        "while True:\n",
        "    num = input('Enter a number: ')\n",
        "    if num == 'done':\n",
        "        break\n",
        "    try:\n",
        "        number = int(num)\n",
        "        total += number\n",
        "        count += 1\n",
        "    except ValueError:\n",
        "        print(\"Invalid input\")\n",
        "        continue\n",
        "\n",
        "if count == 0:\n",
        "    print(\"No numbers entered\")\n",
        "else:\n",
        "    average = total / count\n",
        "    print( total, count, average)\n",
        "\n"
      ],
      "metadata": {
        "id": "t8z6vpZfoAnt"
      },
      "execution_count": null,
      "outputs": []
    },
    {
      "cell_type": "markdown",
      "source": [
        "CHALLENGE 2"
      ],
      "metadata": {
        "id": "jiDDh-x5oGd5"
      }
    },
    {
      "cell_type": "code",
      "source": [
        "numbers = []\n",
        "\n",
        "while True:\n",
        "    try:\n",
        "        num = input(\"Enter a number: \")\n",
        "        if num == 'done':\n",
        "            break\n",
        "        number = int(num)\n",
        "        numbers.append(number)\n",
        "    except ValueError:\n",
        "        print(\"Invalid input\")\n",
        "\n",
        "if not numbers:\n",
        "    print(\"No numbers entered\")\n",
        "else:\n",
        "    print(\"Maximum:\", max(numbers))\n",
        "    print(\"Minimum:\", min(numbers))\n"
      ],
      "metadata": {
        "id": "FsIkPpu0oLY8"
      },
      "execution_count": null,
      "outputs": []
    }
  ]
}