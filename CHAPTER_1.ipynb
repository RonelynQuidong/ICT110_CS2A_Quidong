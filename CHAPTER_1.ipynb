{
  "nbformat": 4,
  "nbformat_minor": 0,
  "metadata": {
    "colab": {
      "provenance": []
    },
    "kernelspec": {
      "name": "python3",
      "display_name": "Python 3"
    },
    "language_info": {
      "name": "python"
    }
  },
  "cells": [
    {
      "cell_type": "markdown",
      "source": [
        "#CHAPTER 1\n",
        "\n",
        "##EXERCISES\n",
        "\n",
        "EXERCISE 1\n",
        "\n"
      ],
      "metadata": {
        "id": "FY_9wPEafPts"
      }
    },
    {
      "cell_type": "code",
      "source": [
        "print(\"Hello world!\") # the P is in the Uppercase (change it into lowercase p )"
      ],
      "metadata": {
        "id": "dgm9XbQGfbcF"
      },
      "execution_count": null,
      "outputs": []
    },
    {
      "cell_type": "code",
      "source": [
        "print(\"Hello world!\") #  missing parentheses (add open parentheses)"
      ],
      "metadata": {
        "id": "L1l3Dy60fWwS"
      },
      "execution_count": null,
      "outputs": []
    },
    {
      "cell_type": "code",
      "source": [
        "print(\"Hello world\") # it should be quotation mark instead of apostrophe (delete the apostrophe and add quotation mark before and after Hellow world)"
      ],
      "metadata": {
        "id": "x3eNfEV4fvNp"
      },
      "execution_count": null,
      "outputs": []
    },
    {
      "cell_type": "code",
      "source": [
        "print(\"Hello world!\") # delete the apostrophe and change it into quotation mark"
      ],
      "metadata": {
        "id": "xa_bJt8gfvYt"
      },
      "execution_count": null,
      "outputs": []
    },
    {
      "cell_type": "markdown",
      "source": [
        "EXERCISE 2"
      ],
      "metadata": {
        "id": "pnl3_v68f4wa"
      }
    },
    {
      "cell_type": "code",
      "source": [
        "x = 43\n",
        "x = x + 1 # x is 44\n",
        "print(x)"
      ],
      "metadata": {
        "id": "VfF9IUySf8JV"
      },
      "execution_count": null,
      "outputs": []
    },
    {
      "cell_type": "markdown",
      "source": [
        "EXERCISE 3\n"
      ],
      "metadata": {
        "id": "UefhcBSigaBm"
      }
    },
    {
      "cell_type": "code",
      "source": [
        "x = 43\n",
        "x = x + 1 # the variable x is in uppercase (change into lowercase)\n",
        "print(x)"
      ],
      "metadata": {
        "id": "7bh-cRkxggm3"
      },
      "execution_count": null,
      "outputs": []
    },
    {
      "cell_type": "markdown",
      "source": [
        "#CHAPTER 2\n",
        "\n",
        "##EXERCISES\n",
        "\n",
        "EXERCISE 1\n"
      ],
      "metadata": {
        "id": "P9H-18Omgnug"
      }
    },
    {
      "cell_type": "code",
      "source": [
        "name = input ('Enter your name:')\n",
        "print('Hellow', name)\n"
      ],
      "metadata": {
        "id": "IOVN56dsgz0X"
      },
      "execution_count": null,
      "outputs": []
    },
    {
      "cell_type": "markdown",
      "source": [
        "EXERCISE 2"
      ],
      "metadata": {
        "id": "TAdySM3PhFhx"
      }
    },
    {
      "cell_type": "code",
      "source": [
        "inp = input ('Enter Hours:')\n",
        "ins = input ('Enter Rate:'a', pay)"
      ],
      "metadata": {
        "id": "kgfB_nIrhIBm"
      },
      "execution_count": null,
      "outputs": []
    },
    {
      "cell_type": "markdown",
      "source": [
        "EXERCISE 3\n"
      ],
      "metadata": {
        "id": "5ohr6G41hZ6v"
      }
    },
    {
      "cell_type": "code",
      "source": [
        "width = 17\n",
        "height = 12.0\n",
        "\n",
        "print (width//2,(type(width//2)))\n",
        "print (width/2.0,(type(width/2.0)))\n",
        "print (height/3,(type(height/3)))\n",
        "print (1 + 2 * 5, (type(1 + 2 * 5)))"
      ],
      "metadata": {
        "colab": {
          "base_uri": "https://localhost:8080/"
        },
        "id": "pwb-War7kOHZ",
        "outputId": "afd73d38-5614-47ef-9402-c17b15d6e86f"
      },
      "execution_count": null,
      "outputs": [
        {
          "output_type": "stream",
          "name": "stdout",
          "text": [
            "8 <class 'int'>\n",
            "8.5 <class 'float'>\n",
            "4.0 <class 'float'>\n",
            "11 <class 'int'>\n"
          ]
        }
      ]
    },
    {
      "cell_type": "markdown",
      "source": [
        "EXERCISE 4"
      ],
      "metadata": {
        "id": "3kItBjMxkQ3s"
      }
    },
    {
      "cell_type": "code",
      "source": [
        "number =  float (input (\"enter a number:\"))\n",
        "square = number*number\n",
        "print(\"the square of 3 is\", square)"
      ],
      "metadata": {
        "id": "t0QDbn3tkV5j"
      },
      "execution_count": null,
      "outputs": []
    },
    {
      "cell_type": "markdown",
      "source": [
        "CHALLENGE"
      ],
      "metadata": {
        "id": "WJJty0U5lJpm"
      }
    },
    {
      "cell_type": "code",
      "source": [
        "celsius = float(input('Enter Celsius:'))\n",
        "fahren = (celsius * (9/5)) + 32\n",
        "print ('Celsius:', fahren)"
      ],
      "metadata": {
        "colab": {
          "base_uri": "https://localhost:8080/"
        },
        "id": "zGHF89MtlM80",
        "outputId": "48946c75-074d-4362-f768-32b68fd2531b"
      },
      "execution_count": null,
      "outputs": [
        {
          "output_type": "stream",
          "name": "stdout",
          "text": [
            "Enter Celsius:9\n",
            "Celsius: 48.2\n"
          ]
        }
      ]
    },
    {
      "cell_type": "markdown",
      "source": [
        "#CHAPTER 3\n",
        "\n",
        "##EXERCISES\n",
        "\n",
        "EXERCISE 1"
      ],
      "metadata": {
        "id": "hF5pL5Xakbhr"
      }
    },
    {
      "cell_type": "code",
      "source": [
        "if x > 50:\n",
        "    print('Above 50')\n",
        "elif x > 20:\n",
        "    print('Above 20')\n",
        "elif x > 10:\n",
        "    print('Above 10')\n",
        "elif x > 0:\n",
        "    print('Above 0')\n",
        "else:\n",
        "    print('Something else')\n",
        "\n",
        "#need to rearrange the order of the condition"
      ],
      "metadata": {
        "colab": {
          "base_uri": "https://localhost:8080/"
        },
        "id": "uke0WWb7n6Z_",
        "outputId": "123a2d46-f6e7-4b66-c1ec-bc5bbb7c32c1"
      },
      "execution_count": null,
      "outputs": [
        {
          "output_type": "stream",
          "name": "stdout",
          "text": [
            "Above 20\n"
          ]
        }
      ]
    },
    {
      "cell_type": "markdown",
      "source": [
        "EXERCISE 2"
      ],
      "metadata": {
        "id": "CMEMndhxoCMl"
      }
    },
    {
      "cell_type": "code",
      "source": [
        "from sre_constants import REPEAT_ONE\n",
        "from typing_extensions import reveal_type\n",
        "Hours = float(input('Enter Hours:'))\n",
        "Rate = float (input('Enter Rate:'))\n",
        "\n",
        "if Hours <= 40:\n",
        "  Pay = Hours * Rate\n",
        "else:\n",
        "  regular_Pay = 40* Rate\n",
        "  overtime_Pay = (hours - 40) * (1.5 * Rate)\n",
        "  Pay = regular_Pay + overtime_Pay\n",
        "\n",
        "print('Pay:', Pay)"
      ],
      "metadata": {
        "id": "m8LqSCMCoE1T"
      },
      "execution_count": null,
      "outputs": []
    },
    {
      "cell_type": "markdown",
      "source": [
        "CHALLENGE\n"
      ],
      "metadata": {
        "id": "DaGMMc39p8iV"
      }
    },
    {
      "cell_type": "code",
      "source": [
        "score = float(input('Enter score between 0 and 100: '))\n",
        "\n",
        "if score >= 97:\n",
        "    grade = 1.0\n",
        "elif score >= 93:\n",
        "    grade = 1.25\n",
        "elif score >= 89:\n",
        "    grade = 1.5\n",
        "elif score >= 85:\n",
        "    grade = 1.75\n",
        "elif score >= 81:\n",
        "    grade = 2.0\n",
        "elif score >= 77:\n",
        "    grade = 2.25\n",
        "elif score >= 74:\n",
        "    grade = 2.5\n",
        "else:\n",
        "    grade = 3.0\n",
        "\n",
        "print('Grade', grade)\n"
      ],
      "metadata": {
        "colab": {
          "base_uri": "https://localhost:8080/"
        },
        "id": "5BdF3PFqp-rC",
        "outputId": "27b7323a-8987-4e76-c397-f2d16524a204"
      },
      "execution_count": null,
      "outputs": [
        {
          "output_type": "stream",
          "name": "stdout",
          "text": [
            "Enter score between 0 and 100: 87\n",
            "Grade 1.75\n"
          ]
        }
      ]
    },
    {
      "cell_type": "markdown",
      "source": [
        "#CHAPTER 4\n",
        "\n",
        "##EXERCISES\n",
        "\n",
        "EXERCISE 1\n",
        "\n",
        "\n"
      ],
      "metadata": {
        "id": "VvirCkjwsOtw"
      }
    },
    {
      "cell_type": "code",
      "source": [
        "from sre_constants import REPEAT_ONE\n",
        "def compute_pay(hours, rate):\n",
        "      if hours <= 40:\n",
        "        pay = hours * rate\n",
        "      else:\n",
        "        regular_pay = 40 * rate\n",
        "        overtime_pay = (hours - 40) * (1.5 * rate)\n",
        "        pay = regular_pay + overtime_pay\n",
        "      return pay\n",
        "\n",
        "\n",
        "hours = float(input('Enter Hours:'))\n",
        "rate = float(input('Enter Rate: '))\n",
        "\n",
        "pay = compute_pay(hours, rate)\n",
        "print('Pay:', pay)"
      ],
      "metadata": {
        "id": "9D00L51YsY7I"
      },
      "execution_count": null,
      "outputs": []
    },
    {
      "cell_type": "markdown",
      "source": [
        "CHALLENGE"
      ],
      "metadata": {
        "id": "XBr51hkFuefc"
      }
    },
    {
      "cell_type": "code",
      "source": [
        "def compute_grade(score):\n",
        "  if 97 <= score <= 100:\n",
        "    return '1.0'\n",
        "  elif 93 <= score < 97:\n",
        "    return '1.25'\n",
        "  elif 89 <= score < 93:\n",
        "    return '1.5'\n",
        "  elif 85 <= score < 89:\n",
        "    return '1.75'\n",
        "  elif 81 <= score < 85:\n",
        "    return '2.0'\n",
        "  elif 77 <= score < 81:\n",
        "    return '2.25'\n",
        "  elif 74 <= score < 77:\n",
        "    return '2.5'\n",
        "  elif 0 <= score < 74:\n",
        "    return '3.0'\n",
        "  else:\n",
        "    return 'Invalid score'\n",
        "\n",
        "score = float(input(\"Enter score:\"))\n",
        "grade = compute_grade(score)\n",
        "print(\"Grade: \", grade)"
      ],
      "metadata": {
        "id": "f0rOVL-8ugli"
      },
      "execution_count": null,
      "outputs": []
    },
    {
      "cell_type": "markdown",
      "source": [
        "# CHAPTER 5\n",
        "\n",
        "##EXERCISES\n",
        "\n",
        "EXERCISE 1"
      ],
      "metadata": {
        "id": "wei_G_3zgqZP"
      }
    },
    {
      "cell_type": "code",
      "source": [],
      "metadata": {
        "id": "6o9JQ5WSgxap"
      },
      "execution_count": null,
      "outputs": []
    },
    {
      "cell_type": "markdown",
      "source": [
        "CHALLENGE 1"
      ],
      "metadata": {
        "id": "jwoRzO5yqILD"
      }
    },
    {
      "cell_type": "code",
      "source": [
        "count = 0\n",
        "total = 0\n",
        "\n",
        "while True:\n",
        "    num = input('Enter a number: ')\n",
        "    if num == 'done':\n",
        "        break\n",
        "    try:\n",
        "        number = int(num)\n",
        "        total += number\n",
        "        count += 1\n",
        "    except ValueError:\n",
        "        print(\"Invalid input\")\n",
        "        continue\n",
        "\n",
        "if count == 0:\n",
        "    print(\"No numbers entered\")\n",
        "else:\n",
        "    average = total / count\n",
        "    print( total, count, average)\n",
        "\n"
      ],
      "metadata": {
        "colab": {
          "base_uri": "https://localhost:8080/"
        },
        "id": "ya4kxS6xqN68",
        "outputId": "f7d675a6-0613-407b-89a2-f4eb50364bd9"
      },
      "execution_count": null,
      "outputs": [
        {
          "output_type": "stream",
          "name": "stdout",
          "text": [
            "Enter a number: 4\n",
            "Enter a number: h\n",
            "Invalid input\n",
            "Enter a number: 5\n",
            "Enter a number: 7\n",
            "Enter a number: done\n",
            "16 3 5.333333333333333\n"
          ]
        }
      ]
    },
    {
      "cell_type": "markdown",
      "source": [
        "CHALLENGE 2"
      ],
      "metadata": {
        "id": "FxUygr1ByV2r"
      }
    },
    {
      "cell_type": "code",
      "source": [
        "numbers = []\n",
        "\n",
        "while True:\n",
        "    try:\n",
        "        num = input(\"Enter a number: \")\n",
        "        if num == 'done':\n",
        "            break\n",
        "        number = int(num)\n",
        "        numbers.append(number)\n",
        "    except ValueError:\n",
        "        print(\"Invalid input\")\n",
        "\n",
        "if not numbers:\n",
        "    print(\"No numbers entered\")\n",
        "else:\n",
        "    print(\"Maximum:\", max(numbers))\n",
        "    print(\"Minimum:\", min(numbers))\n"
      ],
      "metadata": {
        "colab": {
          "base_uri": "https://localhost:8080/"
        },
        "id": "82FG2MBPyfVY",
        "outputId": "105debcf-aded-4319-c38b-35acf52d1c75"
      },
      "execution_count": null,
      "outputs": [
        {
          "output_type": "stream",
          "name": "stdout",
          "text": [
            "Enter a number: 5\n",
            "Enter a number: 6\n",
            "Enter a number: 7\n",
            "Enter a number: done\n",
            "Maximum: 7\n",
            "Minimum: 5\n"
          ]
        }
      ]
    }
  ]
}
